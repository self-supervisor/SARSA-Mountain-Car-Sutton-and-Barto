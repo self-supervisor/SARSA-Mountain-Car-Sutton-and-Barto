{
 "cells": [
  {
   "cell_type": "code",
   "execution_count": 1,
   "metadata": {},
   "outputs": [],
   "source": [
    "import gym\n",
    "from gym import wrappers, logger\n",
    "import numpy as np\n",
    "\n",
    "# page 199 sutton and barto 2018\n",
    "# http://incompleteideas.net/tiles/tiles3.html\n",
    "from sutton_tile_coding import *\n",
    "iht = IHT(32768)\n",
    "\n",
    "def get_feature_vector(position, velocity, action):\n",
    "    \"\"\"\n",
    "    page 199 sutton and barto 2018\n",
    "    http://incompleteideas.net/tiles/tiles3.html\n",
    "    \"\"\"\n",
    "    indices = tiles(iht, 8, [8*position/(0.5+1.2), 8*velocity/(0.07+0.07)], action)\n",
    "    feature_vector = np.zeros((32768,))\n",
    "    feature_vector[indices] = 1\n",
    "    return feature_vector"
   ]
  },
  {
   "cell_type": "code",
   "execution_count": 2,
   "metadata": {},
   "outputs": [],
   "source": [
    "assert np.array_equal(get_feature_vector(0.1, 0.1, [0]), \n",
    "                      get_feature_vector(0.1, 0.1, [1])) == False\n",
    "assert np.array_equal(get_feature_vector(0.1, 0.1, [2]), \n",
    "                      get_feature_vector(0.1, 0.1, [2])) == True"
   ]
  },
  {
   "cell_type": "code",
   "execution_count": 3,
   "metadata": {},
   "outputs": [],
   "source": [
    "class Agent(object):\n",
    "    \"\"\"\n",
    "    page 199 sutton and barto 2018\n",
    "    http://incompleteideas.net/tiles/tiles3.html\n",
    "    \"\"\"\n",
    "    def __init__(self, \n",
    "                 param_vector_size, \n",
    "                 learning_rate, \n",
    "                 epsilon,\n",
    "                 discount):\n",
    "        self.weights = np.zeros((param_vector_size,))\n",
    "        self.action_space = [0, 1, 2]\n",
    "        self.learning_rate = learning_rate\n",
    "        self.discount = discount\n",
    "        self.feature_vector = get_feature_vector(0.0, 0.0, [0])\n",
    "        self.action = [1]\n",
    "        self.epsilon = epsilon\n",
    "        \n",
    "    def step(self, reward, new_state, done):\n",
    "        if done:\n",
    "            self.update_weights(reward, done)\n",
    "        else:\n",
    "            new_action = self.epsilon_greedy(new_state)\n",
    "            new_feature_vector = get_feature_vector(new_state[0], \n",
    "                                                    new_state[1], \n",
    "                                                    new_action)\n",
    "            self.update_weights(reward, done, new_feature_vector)\n",
    "            self.feature_vector = new_feature_vector\n",
    "            self.action = new_action\n",
    "        return self.action\n",
    "        \n",
    "    def epsilon_greedy(self, new_state):\n",
    "        import random\n",
    "        \n",
    "        random_float = random.uniform(0,1.0)\n",
    "        if random_float > (1 - self.epsilon):\n",
    "            action = [random.choice([0,1,2])]\n",
    "        else:\n",
    "            values = []\n",
    "            for action_candidate in self.action_space:\n",
    "                new_feature_vector = get_feature_vector(new_state[0], \n",
    "                                                        new_state[1], \n",
    "                                                        [action_candidate])\n",
    "                values.append(self.compute_value(new_feature_vector))\n",
    "            # https://stackoverflow.com/questions/16945518/\n",
    "            #finding-the-index-of-the-value-which-is-the-min-or-\n",
    "            #max-in-python\n",
    "            action = [values.index(max(values))]\n",
    "        return action\n",
    "        \n",
    "    def compute_value(self, feature_vector):\n",
    "        return np.dot(self.weights, feature_vector)\n",
    "    \n",
    "    def update_weights(self, \n",
    "                       reward, \n",
    "                       terminal, \n",
    "                       feature_vector_tp1=np.zeros((32768,))): # placeholder\n",
    "        if terminal:\n",
    "            error = reward - self.compute_value(self.feature_vector)\n",
    "        else:\n",
    "            error = reward + self.discount * self.compute_value(feature_vector_tp1)- self.compute_value(self.feature_vector)\n",
    "        self.weights += self.learning_rate * error * self.feature_vector"
   ]
  },
  {
   "cell_type": "code",
   "execution_count": 4,
   "metadata": {},
   "outputs": [],
   "source": [
    "def train(agent, num_episodes=9000):\n",
    "    env = gym.make(\"MountainCar-v0\")\n",
    "    episode_rewards = []\n",
    "    action = [0]\n",
    "    \n",
    "    for episode in range(num_episodes):\n",
    "        ob = env.reset()\n",
    "        episode_rewards_sum = 0\n",
    "        done = False\n",
    "        count = 0\n",
    "    \n",
    "        while count < 1000:\n",
    "            count += 1\n",
    "            if count == 1000:\n",
    "                done = True\n",
    "            else:\n",
    "                done = False\n",
    "            new_ob, reward, done_env, _ = env.step(action[0])\n",
    "            #env.render()\n",
    "            if new_ob[0] >= 0.5:\n",
    "                count = 1000\n",
    "            episode_rewards_sum += reward\n",
    "            action = agent.step(reward, new_ob, done)\n",
    "        \n",
    "        episode_rewards.append(episode_rewards_sum)\n",
    "        \n",
    "    return episode_rewards, agent"
   ]
  },
  {
   "cell_type": "code",
   "execution_count": 5,
   "metadata": {},
   "outputs": [],
   "source": [
    "agent = Agent(param_vector_size=32768,\n",
    "              learning_rate=(0.5/8),\n",
    "              discount=0.9,\n",
    "              epsilon=0.0)"
   ]
  },
  {
   "cell_type": "code",
   "execution_count": 6,
   "metadata": {},
   "outputs": [],
   "source": [
    "episode_rewards, agent = train(agent, num_episodes=100)"
   ]
  },
  {
   "cell_type": "code",
   "execution_count": 7,
   "metadata": {},
   "outputs": [
    {
     "data": {
      "text/plain": [
       "Text(0.5, 1.0, 'SARSA on Mountain Car from Sutton and Barto with Tile Coding')"
      ]
     },
     "execution_count": 7,
     "metadata": {},
     "output_type": "execute_result"
    },
    {
     "data": {
      "image/png": "[encoded data removed]",
      "text/plain": [
       "<Figure size 432x288 with 1 Axes>"
      ]
     },
     "metadata": {
      "needs_background": "light"
     },
     "output_type": "display_data"
    }
   ],
   "source": [
    "import matplotlib.pyplot as plt\n",
    "%matplotlib inline \n",
    "\n",
    "plt.plot(episode_rewards)\n",
    "plt.ylabel(\"Rewards\")\n",
    "plt.xlabel(\"Episodes\")\n",
    "plt.title(\"SARSA on Mountain Car from Sutton and Barto with Tile Coding\")"
   ]
  }
 ],
 "metadata": {
  "kernelspec": {
   "display_name": "Python 3.7.4 64-bit ('base': conda)",
   "language": "python",
   "name": "python37464bitbaseconda7164c49f19e24791ae56d4ba651dfa62"
  },
  "language_info": {
   "codemirror_mode": {
    "name": "ipython",
    "version": 3
   },
   "file_extension": ".py",
   "mimetype": "text/x-python",
   "name": "python",
   "nbconvert_exporter": "python",
   "pygments_lexer": "ipython3",
   "version": "3.7.4"
  }
 },
 "nbformat": 4,
 "nbformat_minor": 2
}
